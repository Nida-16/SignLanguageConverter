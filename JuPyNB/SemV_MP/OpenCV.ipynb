{
 "cells": [
  {
   "cell_type": "code",
   "execution_count": 1,
   "id": "03cc0463",
   "metadata": {},
   "outputs": [],
   "source": [
    "import cv2 as cv"
   ]
  },
  {
   "cell_type": "code",
   "execution_count": 15,
   "id": "41f30c88",
   "metadata": {},
   "outputs": [],
   "source": [
    "img = cv.imread(r'C:\\Users\\Nida Shaikh\\Downloads\\cats.jpg')"
   ]
  },
  {
   "cell_type": "code",
   "execution_count": 18,
   "id": "f80a1279",
   "metadata": {},
   "outputs": [],
   "source": [
    "cv.imshow(r'C:\\Users\\Nida Shaikh\\Downloads\\cats.jpg',img)"
   ]
  },
  {
   "cell_type": "code",
   "execution_count": null,
   "id": "8eb8dbb0",
   "metadata": {},
   "outputs": [],
   "source": [
    "cv.waitKey(0)"
   ]
  }
 ],
 "metadata": {
  "kernelspec": {
   "display_name": "Python 3 (ipykernel)",
   "language": "python",
   "name": "python3"
  },
  "language_info": {
   "codemirror_mode": {
    "name": "ipython",
    "version": 3
   },
   "file_extension": ".py",
   "mimetype": "text/x-python",
   "name": "python",
   "nbconvert_exporter": "python",
   "pygments_lexer": "ipython3",
   "version": "3.9.7"
  }
 },
 "nbformat": 4,
 "nbformat_minor": 5
}
